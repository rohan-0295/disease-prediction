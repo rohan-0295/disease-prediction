{
 "cells": [
  {
   "cell_type": "code",
   "execution_count": 1,
   "id": "71049f59-339f-47a3-b745-017dc19abf6f",
   "metadata": {},
   "outputs": [],
   "source": [
    "import pandas as pd\n",
    "import numpy as np\n",
    "import seaborn as sns\n",
    "import matplotlib.pyplot as plt"
   ]
  },
  {
   "cell_type": "code",
   "execution_count": 2,
   "id": "758c90fe-8eb5-48cc-8f1a-cb91c928f044",
   "metadata": {},
   "outputs": [],
   "source": [
    "df = pd.read_csv(r'C:\\finaltics\\dataset.csv')"
   ]
  },
  {
   "cell_type": "code",
   "execution_count": 3,
   "id": "685e3cb8-0e86-4c96-93d2-22948529fabf",
   "metadata": {},
   "outputs": [
    {
     "name": "stdout",
     "output_type": "stream",
     "text": [
      "                                      Disease             Symptom_1  \\\n",
      "0                            Fungal infection               itching   \n",
      "1                            Fungal infection             skin_rash   \n",
      "2                            Fungal infection               itching   \n",
      "3                            Fungal infection               itching   \n",
      "4                            Fungal infection               itching   \n",
      "...                                       ...                   ...   \n",
      "4915  (vertigo) Paroymsal  Positional Vertigo              vomiting   \n",
      "4916                                     Acne             skin_rash   \n",
      "4917                  Urinary tract infection   burning_micturition   \n",
      "4918                                Psoriasis             skin_rash   \n",
      "4919                                 Impetigo             skin_rash   \n",
      "\n",
      "                  Symptom_2              Symptom_3                  Symptom_4  \\\n",
      "0                 skin_rash   nodal_skin_eruptions        dischromic _patches   \n",
      "1      nodal_skin_eruptions    dischromic _patches                        NaN   \n",
      "2      nodal_skin_eruptions    dischromic _patches                        NaN   \n",
      "3                 skin_rash    dischromic _patches                        NaN   \n",
      "4                 skin_rash   nodal_skin_eruptions                        NaN   \n",
      "...                     ...                    ...                        ...   \n",
      "4915               headache                 nausea         spinning_movements   \n",
      "4916     pus_filled_pimples             blackheads                   scurring   \n",
      "4917     bladder_discomfort    foul_smell_of urine   continuous_feel_of_urine   \n",
      "4918             joint_pain           skin_peeling        silver_like_dusting   \n",
      "4919             high_fever                blister       red_sore_around_nose   \n",
      "\n",
      "                  Symptom_5            Symptom_6 Symptom_7 Symptom_8  \\\n",
      "0                       NaN                  NaN       NaN       NaN   \n",
      "1                       NaN                  NaN       NaN       NaN   \n",
      "2                       NaN                  NaN       NaN       NaN   \n",
      "3                       NaN                  NaN       NaN       NaN   \n",
      "4                       NaN                  NaN       NaN       NaN   \n",
      "...                     ...                  ...       ...       ...   \n",
      "4915        loss_of_balance         unsteadiness       NaN       NaN   \n",
      "4916                    NaN                  NaN       NaN       NaN   \n",
      "4917                    NaN                  NaN       NaN       NaN   \n",
      "4918   small_dents_in_nails   inflammatory_nails       NaN       NaN   \n",
      "4919      yellow_crust_ooze                  NaN       NaN       NaN   \n",
      "\n",
      "     Symptom_9 Symptom_10 Symptom_11 Symptom_12 Symptom_13 Symptom_14  \\\n",
      "0          NaN        NaN        NaN        NaN        NaN        NaN   \n",
      "1          NaN        NaN        NaN        NaN        NaN        NaN   \n",
      "2          NaN        NaN        NaN        NaN        NaN        NaN   \n",
      "3          NaN        NaN        NaN        NaN        NaN        NaN   \n",
      "4          NaN        NaN        NaN        NaN        NaN        NaN   \n",
      "...        ...        ...        ...        ...        ...        ...   \n",
      "4915       NaN        NaN        NaN        NaN        NaN        NaN   \n",
      "4916       NaN        NaN        NaN        NaN        NaN        NaN   \n",
      "4917       NaN        NaN        NaN        NaN        NaN        NaN   \n",
      "4918       NaN        NaN        NaN        NaN        NaN        NaN   \n",
      "4919       NaN        NaN        NaN        NaN        NaN        NaN   \n",
      "\n",
      "     Symptom_15 Symptom_16 Symptom_17  \n",
      "0           NaN        NaN        NaN  \n",
      "1           NaN        NaN        NaN  \n",
      "2           NaN        NaN        NaN  \n",
      "3           NaN        NaN        NaN  \n",
      "4           NaN        NaN        NaN  \n",
      "...         ...        ...        ...  \n",
      "4915        NaN        NaN        NaN  \n",
      "4916        NaN        NaN        NaN  \n",
      "4917        NaN        NaN        NaN  \n",
      "4918        NaN        NaN        NaN  \n",
      "4919        NaN        NaN        NaN  \n",
      "\n",
      "[4920 rows x 18 columns]\n"
     ]
    }
   ],
   "source": [
    "print(df)"
   ]
  },
  {
   "cell_type": "code",
   "execution_count": 4,
   "id": "26c0ebe4-2c0b-48a3-a510-3f47aa56d79c",
   "metadata": {},
   "outputs": [
    {
     "name": "stdout",
     "output_type": "stream",
     "text": [
      "            Disease   Symptom_1              Symptom_2              Symptom_3  \\\n",
      "0  Fungal infection     itching              skin_rash   nodal_skin_eruptions   \n",
      "1  Fungal infection   skin_rash   nodal_skin_eruptions    dischromic _patches   \n",
      "2  Fungal infection     itching   nodal_skin_eruptions    dischromic _patches   \n",
      "3  Fungal infection     itching              skin_rash    dischromic _patches   \n",
      "4  Fungal infection     itching              skin_rash   nodal_skin_eruptions   \n",
      "\n",
      "              Symptom_4 Symptom_5 Symptom_6 Symptom_7 Symptom_8 Symptom_9  \\\n",
      "0   dischromic _patches       NaN       NaN       NaN       NaN       NaN   \n",
      "1                   NaN       NaN       NaN       NaN       NaN       NaN   \n",
      "2                   NaN       NaN       NaN       NaN       NaN       NaN   \n",
      "3                   NaN       NaN       NaN       NaN       NaN       NaN   \n",
      "4                   NaN       NaN       NaN       NaN       NaN       NaN   \n",
      "\n",
      "  Symptom_10 Symptom_11 Symptom_12 Symptom_13 Symptom_14 Symptom_15  \\\n",
      "0        NaN        NaN        NaN        NaN        NaN        NaN   \n",
      "1        NaN        NaN        NaN        NaN        NaN        NaN   \n",
      "2        NaN        NaN        NaN        NaN        NaN        NaN   \n",
      "3        NaN        NaN        NaN        NaN        NaN        NaN   \n",
      "4        NaN        NaN        NaN        NaN        NaN        NaN   \n",
      "\n",
      "  Symptom_16 Symptom_17  \n",
      "0        NaN        NaN  \n",
      "1        NaN        NaN  \n",
      "2        NaN        NaN  \n",
      "3        NaN        NaN  \n",
      "4        NaN        NaN  \n"
     ]
    }
   ],
   "source": [
    "print(df.head())"
   ]
  },
  {
   "cell_type": "code",
   "execution_count": 5,
   "id": "1c1d183e-d321-427f-8c6a-2f038dac7300",
   "metadata": {},
   "outputs": [
    {
     "name": "stdout",
     "output_type": "stream",
     "text": [
      "                                      Disease             Symptom_1  \\\n",
      "4915  (vertigo) Paroymsal  Positional Vertigo              vomiting   \n",
      "4916                                     Acne             skin_rash   \n",
      "4917                  Urinary tract infection   burning_micturition   \n",
      "4918                                Psoriasis             skin_rash   \n",
      "4919                                 Impetigo             skin_rash   \n",
      "\n",
      "                Symptom_2             Symptom_3                  Symptom_4  \\\n",
      "4915             headache                nausea         spinning_movements   \n",
      "4916   pus_filled_pimples            blackheads                   scurring   \n",
      "4917   bladder_discomfort   foul_smell_of urine   continuous_feel_of_urine   \n",
      "4918           joint_pain          skin_peeling        silver_like_dusting   \n",
      "4919           high_fever               blister       red_sore_around_nose   \n",
      "\n",
      "                  Symptom_5            Symptom_6 Symptom_7 Symptom_8  \\\n",
      "4915        loss_of_balance         unsteadiness       NaN       NaN   \n",
      "4916                    NaN                  NaN       NaN       NaN   \n",
      "4917                    NaN                  NaN       NaN       NaN   \n",
      "4918   small_dents_in_nails   inflammatory_nails       NaN       NaN   \n",
      "4919      yellow_crust_ooze                  NaN       NaN       NaN   \n",
      "\n",
      "     Symptom_9 Symptom_10 Symptom_11 Symptom_12 Symptom_13 Symptom_14  \\\n",
      "4915       NaN        NaN        NaN        NaN        NaN        NaN   \n",
      "4916       NaN        NaN        NaN        NaN        NaN        NaN   \n",
      "4917       NaN        NaN        NaN        NaN        NaN        NaN   \n",
      "4918       NaN        NaN        NaN        NaN        NaN        NaN   \n",
      "4919       NaN        NaN        NaN        NaN        NaN        NaN   \n",
      "\n",
      "     Symptom_15 Symptom_16 Symptom_17  \n",
      "4915        NaN        NaN        NaN  \n",
      "4916        NaN        NaN        NaN  \n",
      "4917        NaN        NaN        NaN  \n",
      "4918        NaN        NaN        NaN  \n",
      "4919        NaN        NaN        NaN  \n"
     ]
    }
   ],
   "source": [
    "print(df.tail())"
   ]
  },
  {
   "cell_type": "code",
   "execution_count": 6,
   "id": "0603c3d5-85b0-415f-89b1-117a774d5e25",
   "metadata": {},
   "outputs": [
    {
     "name": "stdout",
     "output_type": "stream",
     "text": [
      "Index(['Disease', 'Symptom_1', 'Symptom_2', 'Symptom_3', 'Symptom_4',\n",
      "       'Symptom_5', 'Symptom_6', 'Symptom_7', 'Symptom_8', 'Symptom_9',\n",
      "       'Symptom_10', 'Symptom_11', 'Symptom_12', 'Symptom_13', 'Symptom_14',\n",
      "       'Symptom_15', 'Symptom_16', 'Symptom_17'],\n",
      "      dtype='object')\n"
     ]
    }
   ],
   "source": [
    "print(df.columns)"
   ]
  },
  {
   "cell_type": "code",
   "execution_count": 7,
   "id": "bac62fa7-14a2-45fd-9865-3fe877f1be39",
   "metadata": {},
   "outputs": [
    {
     "data": {
      "text/plain": [
       "(4920, 18)"
      ]
     },
     "execution_count": 7,
     "metadata": {},
     "output_type": "execute_result"
    }
   ],
   "source": [
    "df.shape\n"
   ]
  },
  {
   "cell_type": "code",
   "execution_count": 8,
   "id": "17a6b8a2-5972-46be-b554-ee16f63ecd41",
   "metadata": {},
   "outputs": [
    {
     "name": "stdout",
     "output_type": "stream",
     "text": [
      "Disease                                  Symptom_1           \n",
      "(vertigo) Paroymsal  Positional Vertigo   headache                 6\n",
      "                                          vomiting               114\n",
      "AIDS                                      muscle_wasting         108\n",
      "                                          patches_in_throat       12\n",
      "Acne                                      pus_filled_pimples       6\n",
      "                                                                ... \n",
      "Urinary tract infection                   burning_micturition    108\n",
      "Varicose veins                            cramps                   6\n",
      "                                          fatigue                114\n",
      "hepatitis A                               joint_pain             114\n",
      "                                          vomiting                 6\n",
      "Name: Symptom_1, Length: 81, dtype: int64\n"
     ]
    }
   ],
   "source": [
    "grouped_data = df.groupby(['Disease','Symptom_1'])['Symptom_1'].count()\n",
    "print(grouped_data)"
   ]
  },
  {
   "cell_type": "code",
   "execution_count": 10,
   "id": "4afbeca7-ca39-424b-9adf-302f7fcd0f08",
   "metadata": {},
   "outputs": [
    {
     "data": {
      "text/plain": [
       "Disease          0\n",
       "Symptom_1        0\n",
       "Symptom_2        0\n",
       "Symptom_3        0\n",
       "Symptom_4      348\n",
       "Symptom_5     1206\n",
       "Symptom_6     1986\n",
       "Symptom_7     2652\n",
       "Symptom_8     2976\n",
       "Symptom_9     3228\n",
       "Symptom_10    3408\n",
       "Symptom_11    3726\n",
       "Symptom_12    4176\n",
       "Symptom_13    4416\n",
       "Symptom_14    4614\n",
       "Symptom_15    4680\n",
       "Symptom_16    4728\n",
       "Symptom_17    4848\n",
       "dtype: int64"
      ]
     },
     "execution_count": 10,
     "metadata": {},
     "output_type": "execute_result"
    }
   ],
   "source": [
    "df.isnull().sum()"
   ]
  },
  {
   "cell_type": "code",
   "execution_count": 12,
   "id": "e9fd564f-4ddd-4116-9f05-bd08faa8d63c",
   "metadata": {},
   "outputs": [
    {
     "name": "stdout",
     "output_type": "stream",
     "text": [
      "<class 'pandas.core.frame.DataFrame'>\n",
      "RangeIndex: 4920 entries, 0 to 4919\n",
      "Data columns (total 18 columns):\n",
      " #   Column      Non-Null Count  Dtype \n",
      "---  ------      --------------  ----- \n",
      " 0   Disease     4920 non-null   object\n",
      " 1   Symptom_1   4920 non-null   object\n",
      " 2   Symptom_2   4920 non-null   object\n",
      " 3   Symptom_3   4920 non-null   object\n",
      " 4   Symptom_4   4572 non-null   object\n",
      " 5   Symptom_5   3714 non-null   object\n",
      " 6   Symptom_6   2934 non-null   object\n",
      " 7   Symptom_7   2268 non-null   object\n",
      " 8   Symptom_8   1944 non-null   object\n",
      " 9   Symptom_9   1692 non-null   object\n",
      " 10  Symptom_10  1512 non-null   object\n",
      " 11  Symptom_11  1194 non-null   object\n",
      " 12  Symptom_12  744 non-null    object\n",
      " 13  Symptom_13  504 non-null    object\n",
      " 14  Symptom_14  306 non-null    object\n",
      " 15  Symptom_15  240 non-null    object\n",
      " 16  Symptom_16  192 non-null    object\n",
      " 17  Symptom_17  72 non-null     object\n",
      "dtypes: object(18)\n",
      "memory usage: 692.0+ KB\n"
     ]
    }
   ],
   "source": [
    "df.info()\n"
   ]
  },
  {
   "cell_type": "code",
   "execution_count": 13,
   "id": "ed28a3ec-e7d4-4ee6-a090-88b0844a1e78",
   "metadata": {},
   "outputs": [
    {
     "ename": "AttributeError",
     "evalue": "module 'numpy' has no attribute 'isnull'",
     "output_type": "error",
     "traceback": [
      "\u001b[1;31m---------------------------------------------------------------------------\u001b[0m",
      "\u001b[1;31mAttributeError\u001b[0m                            Traceback (most recent call last)",
      "Cell \u001b[1;32mIn[13], line 1\u001b[0m\n\u001b[1;32m----> 1\u001b[0m n \u001b[38;5;241m=\u001b[39m np\u001b[38;5;241m.\u001b[39misnull(df)\n",
      "File \u001b[1;32m~\\anaconda3\\Lib\\site-packages\\numpy\\__init__.py:333\u001b[0m, in \u001b[0;36m__getattr__\u001b[1;34m(attr)\u001b[0m\n\u001b[0;32m    330\u001b[0m     \u001b[38;5;124m\"\u001b[39m\u001b[38;5;124mRemoved in NumPy 1.25.0\u001b[39m\u001b[38;5;124m\"\u001b[39m\n\u001b[0;32m    331\u001b[0m     \u001b[38;5;28;01mraise\u001b[39;00m \u001b[38;5;167;01mRuntimeError\u001b[39;00m(\u001b[38;5;124m\"\u001b[39m\u001b[38;5;124mTester was removed in NumPy 1.25.\u001b[39m\u001b[38;5;124m\"\u001b[39m)\n\u001b[1;32m--> 333\u001b[0m \u001b[38;5;28;01mraise\u001b[39;00m \u001b[38;5;167;01mAttributeError\u001b[39;00m(\u001b[38;5;124m\"\u001b[39m\u001b[38;5;124mmodule \u001b[39m\u001b[38;5;132;01m{!r}\u001b[39;00m\u001b[38;5;124m has no attribute \u001b[39m\u001b[38;5;124m\"\u001b[39m\n\u001b[0;32m    334\u001b[0m                      \u001b[38;5;124m\"\u001b[39m\u001b[38;5;132;01m{!r}\u001b[39;00m\u001b[38;5;124m\"\u001b[39m\u001b[38;5;241m.\u001b[39mformat(\u001b[38;5;18m__name__\u001b[39m, attr))\n",
      "\u001b[1;31mAttributeError\u001b[0m: module 'numpy' has no attribute 'isnull'"
     ]
    }
   ],
   "source": []
  },
  {
   "cell_type": "code",
   "execution_count": null,
   "id": "355c012d-fea6-4645-8895-3c5253379678",
   "metadata": {},
   "outputs": [],
   "source": []
  }
 ],
 "metadata": {
  "kernelspec": {
   "display_name": "Python 3 (ipykernel)",
   "language": "python",
   "name": "python3"
  },
  "language_info": {
   "codemirror_mode": {
    "name": "ipython",
    "version": 3
   },
   "file_extension": ".py",
   "mimetype": "text/x-python",
   "name": "python",
   "nbconvert_exporter": "python",
   "pygments_lexer": "ipython3",
   "version": "3.11.7"
  }
 },
 "nbformat": 4,
 "nbformat_minor": 5
}
